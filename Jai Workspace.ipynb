{
 "cells": [
  {
   "cell_type": "code",
   "execution_count": 50,
   "metadata": {},
   "outputs": [
    {
     "data": {
      "text/plain": [
       "<torch._C.Generator at 0x247863804d0>"
      ]
     },
     "execution_count": 50,
     "metadata": {},
     "output_type": "execute_result"
    }
   ],
   "source": [
    "import scipy.io as sio\n",
    "import pandas as pd\n",
    "import numpy as np\n",
    "import itertools\n",
    "\n",
    "import torch\n",
    "import torch.nn as nn\n",
    "import torch.nn.functional as F\n",
    "import torch.optim as optim\n",
    "\n",
    "torch.manual_seed(1)"
   ]
  },
  {
   "cell_type": "code",
   "execution_count": 17,
   "metadata": {},
   "outputs": [],
   "source": [
    "DIM_SIZE = 200"
   ]
  },
  {
   "cell_type": "code",
   "execution_count": 5,
   "metadata": {},
   "outputs": [],
   "source": [
    "lex = sio.loadmat('data/gold_standard.mat')['gold_standard']['map']\n",
    "world = sio.loadmat('data/world.mat')['world']\n",
    "corpus = sio.loadmat('data/corpus.mat')['corpus']"
   ]
  },
  {
   "cell_type": "markdown",
   "metadata": {},
   "source": [
    "# World"
   ]
  },
  {
   "cell_type": "code",
   "execution_count": 24,
   "metadata": {},
   "outputs": [],
   "source": [
    "def get_world():\n",
    "    \n",
    "    world = sio.loadmat('data/world.mat')['world']\n",
    "    world = world[0][0]\n",
    "    \n",
    "    word_idx = world[0][0]\n",
    "    words = list(itertools.chain.from_iterable(map(list, world[1][0])))  \n",
    "    word_dict = dict(zip(word_idx, words))\n",
    "    \n",
    "    obj_idx = world[3][0]\n",
    "    objs = list(itertools.chain.from_iterable(map(list, world[4][0])))  \n",
    "    obj_dict = dict(zip(obj_idx, objs))\n",
    "    \n",
    "    return word_dict, obj_dict"
   ]
  },
  {
   "cell_type": "markdown",
   "metadata": {},
   "source": [
    "# Gold Standard Lexicon"
   ]
  },
  {
   "cell_type": "code",
   "execution_count": 7,
   "metadata": {},
   "outputs": [],
   "source": [
    "def get_gold_lexicon(word_dict, obj_dict):\n",
    "    \n",
    "    lex = sio.loadmat('data/gold_standard.mat')['gold_standard']['map']\n",
    "    lex = lex[0][0]\n",
    "    \n",
    "    lex_dict_index = {}\n",
    "    lex_dict_readable = {}\n",
    "    for i, j in zip(lex[0], lex[1]):\n",
    "        lex_dict_index[i] = j\n",
    "        lex_dict_readable[word_dict[i]] = obj_dict[j]\n",
    "        \n",
    "    return lex_dict_index, lex_dict_readable"
   ]
  },
  {
   "cell_type": "markdown",
   "metadata": {},
   "source": [
    "# Corpus\n"
   ]
  },
  {
   "cell_type": "code",
   "execution_count": 8,
   "metadata": {},
   "outputs": [],
   "source": [
    "def get_corpus(word_dict, obj_dict):\n",
    "    \n",
    "    corpus = sio.loadmat('data/corpus.mat')['corpus']\n",
    "    corpus = corpus[0]\n",
    "    \n",
    "    corpus_idx = []\n",
    "    corpus_readable = []\n",
    "    for pair in corpus:\n",
    "        \n",
    "        scene = list(pair[0][0])\n",
    "        utt = list(pair[1][0])\n",
    "        new_pair = {'scene': scene, 'utt': utt}\n",
    "        corpus_idx.append(new_pair)\n",
    "        \n",
    "        scene_word = list(map(lambda x: obj_dict[x], scene))\n",
    "        utt_word = list(map(lambda x: word_dict[x], utt))\n",
    "        new_pair_readable = {'scene': scene_word, 'utt': utt_word}\n",
    "        corpus_readable.append(new_pair_readable)\n",
    "    \n",
    "    return corpus_idx, corpus_readable"
   ]
  },
  {
   "cell_type": "code",
   "execution_count": 25,
   "metadata": {},
   "outputs": [],
   "source": [
    "word_dict, obj_dict = get_world()\n",
    "gold_idx, gold_readable = get_gold_lexicon(word_dict, obj_dict)\n",
    "corpus_idx, corpus_readable = get_corpus(word_dict, obj_dict)"
   ]
  },
  {
   "cell_type": "code",
   "execution_count": 18,
   "metadata": {},
   "outputs": [],
   "source": [
    "def get_alignments(pair):\n",
    "    utt, scene = pair['utt'], pair['scene']\n",
    "    combos = list(itertools.product(utt, scene))\n",
    "    return combos"
   ]
  },
  {
   "cell_type": "markdown",
   "metadata": {},
   "source": [
    "# Neural Network Functions"
   ]
  },
  {
   "cell_type": "code",
   "execution_count": null,
   "metadata": {},
   "outputs": [],
   "source": [
    "def apl_loss():\n",
    "    return torch.max() #TODO: make this vectorized, so i=nstead of max ocompared to 0, has to be max compares to torch.zeros)\n",
    "\n",
    "def asl_loss():\n",
    "    \n",
    "\n",
    "def joint_loss():\n",
    "    pol_loss = apl_loss()\n",
    "    syn_loss = asl_loss()\n",
    "    return torch.add(pol_loss, syn_loss)"
   ]
  },
  {
   "cell_type": "code",
   "execution_count": 69,
   "metadata": {},
   "outputs": [],
   "source": [
    "class EmbeddingModeler(nn.Module):\n",
    "\n",
    "    def __init__(self, vocab_len, embedding_size):\n",
    "        super(EmbeddingModeler, self).__init__()\n",
    "        self.embeddings = nn.Embedding(vocab_len, embedding_size)\n",
    "    \n",
    "    def forward(self, inputs):\n",
    "        embeds = self.embeddings(inputs).view((1, -1))\n",
    "        return embeds"
   ]
  },
  {
   "cell_type": "code",
   "execution_count": 70,
   "metadata": {},
   "outputs": [],
   "source": [
    "def create_embeddings(vocab_len, obj_len):\n",
    "    # Access with torch.LongTensor()\n",
    "    # word_embeddings(torch.LongTensor([0, 1, 2])).shape = (3, 200)\n",
    "    word_embeddings = EmbeddingModeler(vocab_len, DIM_SIZE)\n",
    "    obj_embeddings = EmbeddingModeler(obj_len, DIM_SIZE)\n",
    "    return word_embeddings, obj_embeddings"
   ]
  },
  {
   "cell_type": "code",
   "execution_count": 19,
   "metadata": {},
   "outputs": [],
   "source": [
    "vocab_len = len(word_dict)\n",
    "obj_len = len(obj_dict)"
   ]
  },
  {
   "cell_type": "code",
   "execution_count": 46,
   "metadata": {},
   "outputs": [],
   "source": [
    "def train_embeddings(corpus_idx, corpus_readable, vocab_len, obj_len, loss_type):\n",
    "    \n",
    "    word_embeddings, obj_embeddings = create_embeddings(vocab_len, obj_len)\n",
    "    \n",
    "    for i, pair in enumerate(corpus_idx):\n",
    "        \n",
    "        if loss_type == 'anti-polysemy':\n",
    "            loss = apl_loss(word_embeddings, obj_embeddings)\n",
    "        elif loss_type == 'anti-synonymy':\n",
    "            loss = asl_loss(word_embeddings, obj_embeddings)\n",
    "        else:\n",
    "            loss = joint_loss(word_embeddings, obj_embeddings)\n",
    "\n",
    "        loss.backward()\n",
    "    \n",
    "    return loss\n",
    "    \n",
    "    "
   ]
  },
  {
   "cell_type": "code",
   "execution_count": null,
   "metadata": {},
   "outputs": [],
   "source": [
    "train_embeddings()"
   ]
  },
  {
   "cell_type": "code",
   "execution_count": 66,
   "metadata": {},
   "outputs": [
    {
     "name": "stdout",
     "output_type": "stream",
     "text": [
      "[(['When', 'forty'], 'winters'), (['forty', 'winters'], 'shall'), (['winters', 'shall'], 'besiege')]\n"
     ]
    }
   ],
   "source": [
    "CONTEXT_SIZE = 2\n",
    "EMBEDDING_DIM = 10\n",
    "# We will use Shakespeare Sonnet 2\n",
    "test_sentence = \"\"\"When forty winters shall besiege thy brow,\n",
    "And dig deep trenches in thy beauty's field,\n",
    "Thy youth's proud livery so gazed on now,\n",
    "Will be a totter'd weed of small worth held:\n",
    "Then being asked, where all thy beauty lies,\n",
    "Where all the treasure of thy lusty days;\n",
    "To say, within thine own deep sunken eyes,\n",
    "Were an all-eating shame, and thriftless praise.\n",
    "How much more praise deserv'd thy beauty's use,\n",
    "If thou couldst answer 'This fair child of mine\n",
    "Shall sum my count, and make my old excuse,'\n",
    "Proving his beauty by succession thine!\n",
    "This were to be new made when thou art old,\n",
    "And see thy blood warm when thou feel'st it cold.\"\"\".split()\n",
    "# we should tokenize the input, but we will ignore that for now\n",
    "# build a list of tuples.  Each tuple is ([ word_i-2, word_i-1 ], target word)\n",
    "trigrams = [([test_sentence[i], test_sentence[i + 1]], test_sentence[i + 2])\n",
    "            for i in range(len(test_sentence) - 2)]\n",
    "# print the first 3, just so you can see what they look like\n",
    "print(trigrams[:3])\n",
    "\n",
    "vocab = set(test_sentence)\n",
    "word_to_ix = {word: i for i, word in enumerate(vocab)}\n",
    "\n",
    "\n",
    "class NGramLanguageModeler(nn.Module):\n",
    "\n",
    "    def __init__(self, vocab_size, embedding_dim, context_size):\n",
    "        super(NGramLanguageModeler, self).__init__()\n",
    "        self.embeddings = nn.Embedding(vocab_size, embedding_dim)\n",
    "        self.linear1 = nn.Linear(context_size * embedding_dim, 128)\n",
    "        self.linear2 = nn.Linear(128, vocab_size)\n",
    "\n",
    "    def forward(self, inputs):\n",
    "#         print(self.embeddings.weight.shape)\n",
    "        embeds = self.embeddings(inputs).view((1, -1))\n",
    "#         print(embeds.shape)\n",
    "        out = F.relu(self.linear1(embeds))\n",
    "        out = self.linear2(out)\n",
    "        log_probs = F.log_softmax(out, dim=1)\n",
    "        return log_probs\n",
    "\n",
    "\n",
    "losses = []\n",
    "loss_function = nn.NLLLoss()\n",
    "model = NGramLanguageModeler(len(vocab), EMBEDDING_DIM, CONTEXT_SIZE)\n",
    "optimizer = optim.SGD(model.parameters(), lr=0.001)\n"
   ]
  },
  {
   "cell_type": "code",
   "execution_count": 68,
   "metadata": {},
   "outputs": [
    {
     "name": "stdout",
     "output_type": "stream",
     "text": [
      "[515.5346808433533, 513.2982707023621, 511.07346773147583, 508.8592507839203, 506.6559977531433, 504.46337628364563, 502.276953458786, 500.094162940979, 497.91767406463623, 495.74654150009155, 493.5804042816162]\n"
     ]
    }
   ],
   "source": [
    "for epoch in range(10):\n",
    "    total_loss = 0\n",
    "    for context, target in trigrams:\n",
    "\n",
    "        # Step 1. Prepare the inputs to be passed to the model (i.e, turn the words\n",
    "        # into integer indices and wrap them in tensors)\n",
    "        context_idxs = torch.tensor([word_to_ix[w] for w in context], dtype=torch.long)\n",
    "#         print(context_idxs)\n",
    "        model.zero_grad()\n",
    "\n",
    "        # Step 3. Run the forward pass, getting log probabilities over next\n",
    "        # words\n",
    "        log_probs = model(context_idxs)\n",
    "#         print(log_probs.shape)\n",
    "        # Step 4. Compute your loss function. (Again, Torch wants the target\n",
    "        # word wrapped in a tensor)\n",
    "        loss = loss_function(log_probs, torch.tensor([word_to_ix[target]], dtype=torch.long))\n",
    "\n",
    "        # Step 5. Do the backward pass and update the gradient\n",
    "        loss.backward()\n",
    "        optimizer.step()\n",
    "\n",
    "        # Get the Python number from a 1-element Tensor by calling tensor.item()\n",
    "        total_loss += loss.item()\n",
    "    losses.append(total_loss)\n",
    "print(losses)  # The los"
   ]
  },
  {
   "cell_type": "code",
   "execution_count": null,
   "metadata": {},
   "outputs": [],
   "source": []
  }
 ],
 "metadata": {
  "kernelspec": {
   "display_name": "Python 3",
   "language": "python",
   "name": "python3"
  },
  "language_info": {
   "codemirror_mode": {
    "name": "ipython",
    "version": 3
   },
   "file_extension": ".py",
   "mimetype": "text/x-python",
   "name": "python",
   "nbconvert_exporter": "python",
   "pygments_lexer": "ipython3",
   "version": "3.6.2"
  }
 },
 "nbformat": 4,
 "nbformat_minor": 2
}
