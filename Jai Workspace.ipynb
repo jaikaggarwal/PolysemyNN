{
 "cells": [
  {
   "cell_type": "code",
   "execution_count": 77,
   "metadata": {},
   "outputs": [],
   "source": [
    "import scipy.io as sio\n",
    "import pandas as pd\n",
    "import numpy as np\n",
    "import itertools"
   ]
  },
  {
   "cell_type": "code",
   "execution_count": 3,
   "metadata": {},
   "outputs": [],
   "source": [
    "lex = sio.loadmat('gold_standard.mat')['gold_standard']['map']\n",
    "world = sio.loadmat('world.mat')['world']\n",
    "corpus = sio.loadmat('corpus.mat')['corpus']"
   ]
  },
  {
   "cell_type": "markdown",
   "metadata": {},
   "source": [
    "# World"
   ]
  },
  {
   "cell_type": "code",
   "execution_count": 107,
   "metadata": {},
   "outputs": [],
   "source": [
    "def get_world():\n",
    "    \n",
    "    world = sio.loadmat('world.mat')['world']\n",
    "    world = world[0][0]\n",
    "    \n",
    "    word_idx = world[0][0]\n",
    "    words = list(itertools.chain.from_iterable(map(list, world[1][0])))  \n",
    "    word_dict = dict(zip(word_idx, words))\n",
    "    \n",
    "    obj_idx = world[3][0]\n",
    "    objs = list(itertools.chain.from_iterable(map(list, world[4][0])))  \n",
    "    obj_dict = dict(zip(obj_idx, objs))\n",
    "    \n",
    "    return word_dict, obj_dict"
   ]
  },
  {
   "cell_type": "markdown",
   "metadata": {},
   "source": [
    "# Gold Standard Lexicon"
   ]
  },
  {
   "cell_type": "code",
   "execution_count": 108,
   "metadata": {},
   "outputs": [],
   "source": [
    "def get_gold_lexicon(word_dict, obj_dict):\n",
    "    \n",
    "    lex = sio.loadmat('gold_standard.mat')['gold_standard']['map']\n",
    "    lex = lex[0][0]\n",
    "    \n",
    "    lex_dict_index = {}\n",
    "    lex_dict_readable = {}\n",
    "    for i, j in zip(lex[0], lex[1]):\n",
    "        lex_dict_index[i] = j\n",
    "        lex_dict_readable[word_dict[i]] = obj_dict[j]\n",
    "        \n",
    "    return lex_dict_index, lex_dict_readable"
   ]
  },
  {
   "cell_type": "markdown",
   "metadata": {},
   "source": [
    "# Corpus\n"
   ]
  },
  {
   "cell_type": "code",
   "execution_count": 112,
   "metadata": {},
   "outputs": [],
   "source": [
    "def get_corpus(word_dict, obj_dict):\n",
    "    \n",
    "    corpus = sio.loadmat('corpus.mat')['corpus']\n",
    "    corpus = corpus[0]\n",
    "    \n",
    "    corpus_idx = []\n",
    "    corpus_readable = []\n",
    "    for pair in corpus:\n",
    "        \n",
    "        scene = list(pair[0][0])\n",
    "        utt = list(pair[1][0])\n",
    "        new_pair = {'scene': scene, 'utt': utt}\n",
    "        corpus_idx.append(new_pair)\n",
    "        \n",
    "        scene_word = list(map(lambda x: obj_dict[x], scene))\n",
    "        utt_word = list(map(lambda x: word_dict[x], utt))\n",
    "        new_pair_readable = {'scene': scene_word, 'utt': utt_word}\n",
    "        corpus_readable.append(new_pair_readable)\n",
    "    \n",
    "    return corpus_idx, corpus_readable"
   ]
  },
  {
   "cell_type": "code",
   "execution_count": 113,
   "metadata": {},
   "outputs": [],
   "source": [
    "word_dict, obj_dict = get_world()\n",
    "gold_idx, gold_readable = get_gold_lexicon(word_dict, obj_dict)\n",
    "corpus_idx, corpus_readable = get_corpus(word_dict, obj_dict)"
   ]
  }
 ],
 "metadata": {
  "kernelspec": {
   "display_name": "Python 3",
   "language": "python",
   "name": "python3"
  },
  "language_info": {
   "codemirror_mode": {
    "name": "ipython",
    "version": 3
   },
   "file_extension": ".py",
   "mimetype": "text/x-python",
   "name": "python",
   "nbconvert_exporter": "python",
   "pygments_lexer": "ipython3",
   "version": "3.6.2"
  }
 },
 "nbformat": 4,
 "nbformat_minor": 2
}
